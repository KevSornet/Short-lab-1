{
 "cells": [
  {
   "cell_type": "markdown",
   "metadata": {},
   "source": [
    "# Student Details\n",
    "\n",
    "* ID Number: 204791\n",
    "* Surname: Sornet\n",
    "* Year and Course: 2 BS ITE"
   ]
  },
  {
   "cell_type": "markdown",
   "metadata": {},
   "source": [
    "# Problem 1\n",
    "\n",
    "## Currency Converter\n",
    "\n",
    "## Write a function called dollars_to_pesos that accepts an amount in US dollars and that RETURNS a string that indicates the equivalent amount in Philippine pesos\n",
    "\n",
    "1. It is very important that your entire program is contained within a function. It is also very important that your output value is returned and not merely printed. This is to make sure that the function, when called, actually evaluates to a value instead of merely printing the calculated value out to the terminal. This is because the function, conceptually, is intended to be a utility function for further conversions, so it needs to evaluate to a value on its own.\n",
    "\n",
    "2. The function must accept the input through one parameter called dollars.\n",
    "\n",
    "3. The function must return a string that is formatted as follows: {dollars} US dollar(s) = {pesos} Philippine pesos., where dollars is the amount of dollars given as input and where pesos is the equivalent amount of pesos for the given dollars.\n",
    "\n",
    "4. For simplicity, use the conversion rate 1 USD = PHP 50."
   ]
  },
  {
   "cell_type": "code",
   "execution_count": 44,
   "metadata": {},
   "outputs": [
    {
     "name": "stdout",
     "output_type": "stream",
     "text": [
      "Enter the amound in US Dollars: 5\n",
      "5 US dollar(s) = 250 pesos\n"
     ]
    }
   ],
   "source": [
    "def dollars_to_pesos (dollar):\n",
    "    pesos = dollar * 50\n",
    "    return pesos\n",
    "\n",
    "dollar = int(input(\"Enter the amound in US Dollars: \"))\n",
    "pesos = dollars_to_pesos (dollar)\n",
    "\n",
    "print(str(dollar) + \" US dollar(s)\" + \" = \" + str(pesos) + \" pesos\")"
   ]
  },
  {
   "cell_type": "code",
   "execution_count": null,
   "metadata": {},
   "outputs": [],
   "source": []
  },
  {
   "cell_type": "markdown",
   "metadata": {},
   "source": [
    "# Problem 2\n",
    "\n",
    "# Numberical Operations\n",
    "\n",
    "## Write a function called perform_operations that accepts two parameters, x and y, which are integers. The function should PRINT the results of performing operations on those two numbers.\n",
    "\n",
    "1. It is very important that the function prints the output this time.\n",
    "\n",
    "2. The function must accept two parameters, x and y, which are both integers.\n",
    "\n",
    "3. The function should print the results of addition, subtraction, multiplication, division without the remainder, and finally the remainder upon division of x and y on separate lines."
   ]
  },
  {
   "cell_type": "code",
   "execution_count": 81,
   "metadata": {},
   "outputs": [
    {
     "name": "stdout",
     "output_type": "stream",
     "text": [
      "Input first number: 55\n",
      "Input second number: 3\n",
      "addition: 58\n",
      "subtraction: 52\n",
      "multiplication: 165\n",
      "floor division: 18\n",
      "modulo: 1\n"
     ]
    }
   ],
   "source": [
    "def operations (x,y):\n",
    "    addition = \"addition: \" + str(x + y)\n",
    "    subtraction = \"subtraction: \" + str(x - y)\n",
    "    multiplication = \"multiplication: \" + str(x * y)\n",
    "    floordiv = \"floor division: \" + str(x // y)\n",
    "    modulo = \"modulo: \" + str(x % y)\n",
    "   \n",
    "    math_operations = (addition, subtraction, multiplication, floordiv, modulo)\n",
    "    print(*math_operations, sep = \"\\n\")\n",
    "\n",
    "x = int(input(\"Input first number: \"))\n",
    "y = int(input(\"Input second number: \"))\n",
    "\n",
    "operations = operations (x,y)"
   ]
  },
  {
   "cell_type": "markdown",
   "metadata": {},
   "source": [
    "# Problem 3\n",
    "\n",
    "# BMI Calculator\n",
    "\n",
    "## Write a function called bmi that computes for and returns your Body Mass Index (BMI). The formula for BMI is as follows:\n",
    "\n",
    "### BMI = (kg) / (m^2)\n",
    "* In the formula, kg is a person's weight in kilograms, and m is the person's height in meters.\n",
    "\n",
    "1. The function bmi must accept two parameters kg and cm, where kg is a person's weight in kilograms and cm is the person's height in centimeters.\n",
    "\n",
    "2. The function must return a float. This float will be checked for computational accuracy within 4 decimal places."
   ]
  },
  {
   "cell_type": "code",
   "execution_count": 71,
   "metadata": {},
   "outputs": [
    {
     "name": "stdout",
     "output_type": "stream",
     "text": [
      "Enter values ('kg' weight & 'cm' height): 65 180\n",
      "weight in kilograms:  65\n",
      "height in centimeters:  180\n",
      "your bmi is: 20.061728395061728\n"
     ]
    }
   ],
   "source": [
    "def bmi (weight, height):\n",
    "    conversion = float(int(weight) / (int(height)*.01)**2)\n",
    "    return conversion\n",
    "    \n",
    "weight, height = input(\"Enter values ('kg' weight & 'cm' height): \").split()\n",
    "print(\"weight in kilograms: \", weight)\n",
    "print(\"height in centimeters: \", height)\n",
    "\n",
    "bmi = bmi (weight, height)\n",
    "\n",
    "print(\"your bmi is: \" + str(bmi))"
   ]
  },
  {
   "cell_type": "code",
   "execution_count": null,
   "metadata": {},
   "outputs": [],
   "source": []
  }
 ],
 "metadata": {
  "kernelspec": {
   "display_name": "Python 3",
   "language": "python",
   "name": "python3"
  },
  "language_info": {
   "codemirror_mode": {
    "name": "ipython",
    "version": 3
   },
   "file_extension": ".py",
   "mimetype": "text/x-python",
   "name": "python",
   "nbconvert_exporter": "python",
   "pygments_lexer": "ipython3",
   "version": "3.8.5"
  }
 },
 "nbformat": 4,
 "nbformat_minor": 4
}
